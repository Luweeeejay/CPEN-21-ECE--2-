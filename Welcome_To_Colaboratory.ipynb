{
  "nbformat": 4,
  "nbformat_minor": 0,
  "metadata": {
    "colab": {
      "name": "Welcome To Colaboratory",
      "provenance": [],
      "collapsed_sections": [],
      "toc_visible": true,
      "include_colab_link": true
    },
    "kernelspec": {
      "display_name": "Python 3",
      "name": "python3"
    }
  },
  "cells": [
    {
      "cell_type": "markdown",
      "metadata": {
        "id": "view-in-github",
        "colab_type": "text"
      },
      "source": [
        "<a href=\"https://colab.research.google.com/github/Luweeeejay/CPEN-21-ECE--2-/blob/main/Welcome_To_Colaboratory.ipynb\" target=\"_parent\"><img src=\"https://colab.research.google.com/assets/colab-badge.svg\" alt=\"Open In Colab\"/></a>"
      ]
    },
    {
      "cell_type": "code",
      "metadata": {
        "id": "KOgJtSAg8MRJ",
        "outputId": "f3a3782e-289a-4edf-a994-e8bb80b029a3",
        "colab": {
          "base_uri": "https://localhost:8080/"
        }
      },
      "source": [
        "print(\"Welcome To Python Programming\")"
      ],
      "execution_count": 20,
      "outputs": [
        {
          "output_type": "stream",
          "name": "stdout",
          "text": [
            "Welcome To Python Programming\n"
          ]
        }
      ]
    },
    {
      "cell_type": "code",
      "metadata": {
        "id": "YURn7PKU9C2J",
        "outputId": "9c15cb79-5af8-495b-c9e9-69c09d63e8cb",
        "colab": {
          "base_uri": "https://localhost:8080/"
        }
      },
      "source": [
        "b = \"Sally\"\n",
        "print(b)"
      ],
      "execution_count": 23,
      "outputs": [
        {
          "output_type": "stream",
          "name": "stdout",
          "text": [
            "Sally\n"
          ]
        }
      ]
    },
    {
      "cell_type": "code",
      "metadata": {
        "id": "gQepUqeu9L2O",
        "outputId": "8ca0e671-cf5a-4034-9b0a-f84c3070eca5",
        "colab": {
          "base_uri": "https://localhost:8080/"
        }
      },
      "source": [
        "b = int(4)\n",
        "print(b)"
      ],
      "execution_count": 24,
      "outputs": [
        {
          "output_type": "stream",
          "name": "stdout",
          "text": [
            "4\n"
          ]
        }
      ]
    },
    {
      "cell_type": "code",
      "metadata": {
        "id": "LgcIcYlO9Sho",
        "outputId": "8002b568-8aeb-47ac-850f-efdee3c8a748",
        "colab": {
          "base_uri": "https://localhost:8080/"
        }
      },
      "source": [
        "b = float(4)\n",
        "print(round((b),3))"
      ],
      "execution_count": 25,
      "outputs": [
        {
          "output_type": "stream",
          "name": "stdout",
          "text": [
            "4.0\n"
          ]
        }
      ]
    },
    {
      "cell_type": "code",
      "metadata": {
        "id": "6jjlgnPt9omg",
        "outputId": "db6f81a7-793f-489e-d590-d52cb0648937",
        "colab": {
          "base_uri": "https://localhost:8080/"
        }
      },
      "source": [
        "x = 5\n",
        "y = (\"John\")\n",
        "print(type(x))\n",
        "print(type(y))"
      ],
      "execution_count": 26,
      "outputs": [
        {
          "output_type": "stream",
          "name": "stdout",
          "text": [
            "<class 'int'>\n",
            "<class 'str'>\n"
          ]
        }
      ]
    },
    {
      "cell_type": "code",
      "metadata": {
        "id": "mPkxC0PW90zQ",
        "outputId": "3292fd02-e730-4d90-bd49-72cee25af4d0",
        "colab": {
          "base_uri": "https://localhost:8080/"
        }
      },
      "source": [
        "a = 4\n",
        "A = \"Sally\"\n",
        "print(a)\n",
        "print(A)"
      ],
      "execution_count": 27,
      "outputs": [
        {
          "output_type": "stream",
          "name": "stdout",
          "text": [
            "4\n",
            "Sally\n"
          ]
        }
      ]
    },
    {
      "cell_type": "code",
      "metadata": {
        "id": "BENz6L-e99Wu",
        "outputId": "3e3fb11a-6ab4-46db-a25b-e0ee86f5a0d2",
        "colab": {
          "base_uri": "https://localhost:8080/"
        }
      },
      "source": [
        "x,y,z = \"one\",\"two\",\"three\"\n",
        "print(x)\n",
        "print(y)\n",
        "print(z)"
      ],
      "execution_count": 28,
      "outputs": [
        {
          "output_type": "stream",
          "name": "stdout",
          "text": [
            "one\n",
            "two\n",
            "three\n"
          ]
        }
      ]
    },
    {
      "cell_type": "code",
      "metadata": {
        "id": "wKmMereH-I5I",
        "outputId": "ac7669fd-febf-4d16-8134-13ded27d3c83",
        "colab": {
          "base_uri": "https://localhost:8080/"
        }
      },
      "source": [
        "x=y=z=\"Four\"\n",
        "print(x)\n",
        "print(y)\n",
        "print(z)"
      ],
      "execution_count": 29,
      "outputs": [
        {
          "output_type": "stream",
          "name": "stdout",
          "text": [
            "Four\n",
            "Four\n",
            "Four\n"
          ]
        }
      ]
    },
    {
      "cell_type": "code",
      "metadata": {
        "id": "MpX__X-X-YTh",
        "outputId": "d9a998ba-ceb3-4825-de1b-b89da46f110a",
        "colab": {
          "base_uri": "https://localhost:8080/"
        }
      },
      "source": [
        "x = (\"enjoying\")\n",
        "print(\"Programming is \"+ x)"
      ],
      "execution_count": 30,
      "outputs": [
        {
          "output_type": "stream",
          "name": "stdout",
          "text": [
            "Programming is enjoying\n"
          ]
        }
      ]
    },
    {
      "cell_type": "code",
      "metadata": {
        "id": "tN3kNDCU-k_A",
        "outputId": "8e3747fd-0a01-4048-c1f2-36f6d7bb546a",
        "colab": {
          "base_uri": "https://localhost:8080/"
        }
      },
      "source": [
        "x=(\"Python is\")\n",
        "y=(\" enjoying\")\n",
        "z= x + y\n",
        "print(z)"
      ],
      "execution_count": 31,
      "outputs": [
        {
          "output_type": "stream",
          "name": "stdout",
          "text": [
            "Python is enjoying\n"
          ]
        }
      ]
    },
    {
      "cell_type": "code",
      "metadata": {
        "id": "HXsxFnav-y6A",
        "outputId": "7e5a6948-6ebd-4133-fff7-d860c93e0b4b",
        "colab": {
          "base_uri": "https://localhost:8080/"
        }
      },
      "source": [
        "x=5\n",
        "y=4\n",
        "z=y-x\n",
        "print(z)"
      ],
      "execution_count": 32,
      "outputs": [
        {
          "output_type": "stream",
          "name": "stdout",
          "text": [
            "-1\n"
          ]
        }
      ]
    },
    {
      "cell_type": "code",
      "metadata": {
        "id": "xGcmMHiA_BCg",
        "outputId": "c8df6876-ec43-42fb-f6b2-44275e6327c5",
        "colab": {
          "base_uri": "https://localhost:8080/"
        }
      },
      "source": [
        "x+=1\n",
        "print(x)"
      ],
      "execution_count": 34,
      "outputs": [
        {
          "output_type": "stream",
          "name": "stdout",
          "text": [
            "2\n"
          ]
        }
      ]
    },
    {
      "cell_type": "code",
      "metadata": {
        "id": "krdvsDNo_JO_",
        "outputId": "fb5bd2ac-d878-4808-aa63-9c7890ceda84",
        "colab": {
          "base_uri": "https://localhost:8080/"
        }
      },
      "source": [
        "a,b,c=0,-1,8\n",
        "c%=3\n",
        "b%=5\n",
        "print(int(c))"
      ],
      "execution_count": 35,
      "outputs": [
        {
          "output_type": "stream",
          "name": "stdout",
          "text": [
            "2\n"
          ]
        }
      ]
    },
    {
      "cell_type": "code",
      "metadata": {
        "id": "QXCDreKN_Uwg",
        "outputId": "2b18168b-13e7-4c40-c3ab-40baaf4cef41",
        "colab": {
          "base_uri": "https://localhost:8080/"
        }
      },
      "source": [
        "x=5\n",
        "x<6 and x<10"
      ],
      "execution_count": 36,
      "outputs": [
        {
          "output_type": "execute_result",
          "data": {
            "text/plain": [
              "True"
            ]
          },
          "metadata": {},
          "execution_count": 36
        }
      ]
    },
    {
      "cell_type": "code",
      "metadata": {
        "id": "lYxepZEv_ceZ",
        "outputId": "1a820512-aa77-43d5-b159-e22f272cacb3",
        "colab": {
          "base_uri": "https://localhost:8080/"
        }
      },
      "source": [
        "x=5\n",
        "not(x>5 or x>10)\n"
      ],
      "execution_count": 37,
      "outputs": [
        {
          "output_type": "execute_result",
          "data": {
            "text/plain": [
              "True"
            ]
          },
          "metadata": {},
          "execution_count": 37
        }
      ]
    },
    {
      "cell_type": "code",
      "metadata": {
        "id": "5EzQOg76_rz3",
        "outputId": "a986d193-02c7-4957-a77f-c9ad64d12737",
        "colab": {
          "base_uri": "https://localhost:8080/"
        }
      },
      "source": [
        "y=5\n",
        "x>5 ^ x<10"
      ],
      "execution_count": 38,
      "outputs": [
        {
          "output_type": "execute_result",
          "data": {
            "text/plain": [
              "True"
            ]
          },
          "metadata": {},
          "execution_count": 38
        }
      ]
    },
    {
      "cell_type": "code",
      "metadata": {
        "id": "fvZM1kQq_zk6",
        "outputId": "eee66310-bce2-4f5c-813e-211e3c0332d4",
        "colab": {
          "base_uri": "https://localhost:8080/"
        }
      },
      "source": [
        "x is y\n",
        "x is not y"
      ],
      "execution_count": 39,
      "outputs": [
        {
          "output_type": "execute_result",
          "data": {
            "text/plain": [
              "False"
            ]
          },
          "metadata": {},
          "execution_count": 39
        }
      ]
    }
  ]
}