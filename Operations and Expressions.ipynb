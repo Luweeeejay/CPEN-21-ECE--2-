{
  "nbformat": 4,
  "nbformat_minor": 0,
  "metadata": {
    "colab": {
      "name": "Welcome To Colaboratory",
      "provenance": [],
      "collapsed_sections": [],
      "toc_visible": true,
      "include_colab_link": true
    },
    "kernelspec": {
      "display_name": "Python 3",
      "name": "python3"
    }
  },
  "cells": [
    {
      "cell_type": "markdown",
      "metadata": {
        "id": "view-in-github",
        "colab_type": "text"
      },
      "source": [
        "<a href=\"https://colab.research.google.com/github/Luweeeejay/CPEN-21-ECE--2-/blob/main/Operations%20and%20Expressions.ipynb\" target=\"_parent\"><img src=\"https://colab.research.google.com/assets/colab-badge.svg\" alt=\"Open In Colab\"/></a>"
      ]
    },
    {
      "cell_type": "markdown",
      "metadata": {
        "id": "7H3w1aC88vU4"
      },
      "source": [
        "Boolean Operations"
      ]
    },
    {
      "cell_type": "code",
      "metadata": {
        "id": "182P7hC38_JD",
        "outputId": "c2ca9a23-efad-4342-e011-60668784bbce",
        "colab": {
          "base_uri": "https://localhost:8080/"
        }
      },
      "source": [
        "a = 10\n",
        "b = 9\n",
        "c = 8\n",
        "\n",
        "print (10 > 9)\n",
        "print (10 == 9)\n",
        "print (10 < 9)\n",
        "\n",
        "print (a)\n",
        "print (a > b)\n",
        "c = print (a > b)\n",
        "\n",
        "c"
      ],
      "execution_count": 1,
      "outputs": [
        {
          "output_type": "stream",
          "name": "stdout",
          "text": [
            "True\n",
            "False\n",
            "False\n",
            "10\n",
            "True\n",
            "True\n"
          ]
        }
      ]
    },
    {
      "cell_type": "code",
      "metadata": {
        "id": "p8qdtnjO9slf",
        "outputId": "9e214e80-8d93-4f6a-9c89-5ddd3682ba83",
        "colab": {
          "base_uri": "https://localhost:8080/"
        }
      },
      "source": [
        "##true\n",
        "print(bool(\"Hello\"))\n",
        "print(bool(15))\n",
        "print(bool(True))\n",
        "print(bool(1))\n",
        "\n",
        "##false\n",
        "print(bool(False))\n",
        "print(bool(0))\n",
        "print(bool(None))\n",
        "print(bool([]))"
      ],
      "execution_count": 2,
      "outputs": [
        {
          "output_type": "stream",
          "name": "stdout",
          "text": [
            "True\n",
            "True\n",
            "True\n",
            "True\n",
            "False\n",
            "False\n",
            "False\n",
            "False\n"
          ]
        }
      ]
    },
    {
      "cell_type": "code",
      "metadata": {
        "id": "_xTqYZuh-ht_",
        "outputId": "915b51a4-5f07-475e-fce8-9d33ecf6f7bd",
        "colab": {
          "base_uri": "https://localhost:8080/"
        }
      },
      "source": [
        "def myFunction():\n",
        "  return True\n",
        "\n",
        "print(myFunction())"
      ],
      "execution_count": 3,
      "outputs": [
        {
          "output_type": "stream",
          "name": "stdout",
          "text": [
            "True\n"
          ]
        }
      ]
    },
    {
      "cell_type": "code",
      "metadata": {
        "id": "yQptipP3-vHR",
        "outputId": "6a7c62f0-705a-4830-a6fd-98c928c0bbea",
        "colab": {
          "base_uri": "https://localhost:8080/"
        }
      },
      "source": [
        "def myFunction():\n",
        "  return True\n",
        "\n",
        "if myFunction():\n",
        "  print(\"Yes/True\")\n",
        "else:\n",
        "  print(\"No/False\")"
      ],
      "execution_count": 7,
      "outputs": [
        {
          "output_type": "stream",
          "name": "stdout",
          "text": [
            "Yes/True\n"
          ]
        }
      ]
    },
    {
      "cell_type": "code",
      "metadata": {
        "id": "0sfmuEZn_Ytb",
        "outputId": "3ec692b4-8385-417b-eec4-a41aed9804f1",
        "colab": {
          "base_uri": "https://localhost:8080/"
        }
      },
      "source": [
        "print(10>9)\n",
        "\n",
        "a = 6 #0000 0110\n",
        "b = 7 #0000 0111\n",
        "\n",
        "print(a == b)\n",
        "print(a != b)"
      ],
      "execution_count": 8,
      "outputs": [
        {
          "output_type": "stream",
          "name": "stdout",
          "text": [
            "True\n",
            "False\n",
            "True\n"
          ]
        }
      ]
    },
    {
      "cell_type": "markdown",
      "metadata": {
        "id": "e4p55fb0_sFI"
      },
      "source": [
        "Python Operators"
      ]
    },
    {
      "cell_type": "code",
      "metadata": {
        "id": "WshfVSEQ_vg3",
        "outputId": "af685568-5dea-4bfa-cb5f-26959eba614a",
        "colab": {
          "base_uri": "https://localhost:8080/"
        }
      },
      "source": [
        "print(10 + 5)\n",
        "print(10 - 5)\n",
        "print(10 * 5)\n",
        "print(10 / 5)\n",
        "print(10 % 5)\n",
        "print(10 // 3)\n",
        "print(10 ** 2)"
      ],
      "execution_count": 9,
      "outputs": [
        {
          "output_type": "stream",
          "name": "stdout",
          "text": [
            "15\n",
            "5\n",
            "50\n",
            "2.0\n",
            "0\n",
            "3\n",
            "100\n"
          ]
        }
      ]
    },
    {
      "cell_type": "markdown",
      "metadata": {
        "id": "6YOzCdffAJo1"
      },
      "source": [
        "Bitwise Operators"
      ]
    },
    {
      "cell_type": "code",
      "metadata": {
        "id": "IFhiy3UVAL_5",
        "outputId": "96914b04-c9ea-447a-d1c2-edae528ddb43",
        "colab": {
          "base_uri": "https://localhost:8080/"
        }
      },
      "source": [
        "a = 60 #0011 1100\n",
        "b = 13\n",
        "\n",
        "print (a^b)\n",
        "print (~a)\n",
        "print (a<<2)\n",
        "print (a>>2) #0000 1111"
      ],
      "execution_count": 10,
      "outputs": [
        {
          "output_type": "stream",
          "name": "stdout",
          "text": [
            "49\n",
            "-61\n",
            "240\n",
            "15\n"
          ]
        }
      ]
    },
    {
      "cell_type": "markdown",
      "metadata": {
        "id": "dYQVLOKeAkUz"
      },
      "source": [
        "Assignment Operator"
      ]
    },
    {
      "cell_type": "code",
      "metadata": {
        "id": "ZRwcj3HPAnQR",
        "outputId": "e4a0b5ff-2929-4c42-8d7f-bbc7f874bee3",
        "colab": {
          "base_uri": "https://localhost:8080/"
        }
      },
      "source": [
        "x = 2\n",
        "x += 3 #Same As x = x+3\n",
        "print(x)\n",
        "x"
      ],
      "execution_count": 11,
      "outputs": [
        {
          "output_type": "stream",
          "name": "stdout",
          "text": [
            "5\n"
          ]
        },
        {
          "output_type": "execute_result",
          "data": {
            "text/plain": [
              "5"
            ]
          },
          "metadata": {},
          "execution_count": 11
        }
      ]
    },
    {
      "cell_type": "markdown",
      "metadata": {
        "id": "wsDKt5LSAymW"
      },
      "source": [
        "Logical Operators"
      ]
    },
    {
      "cell_type": "code",
      "metadata": {
        "id": "C_h3Z6LdA0_I",
        "outputId": "ccceb155-c5d6-447f-f5ee-da471fc18dd9",
        "colab": {
          "base_uri": "https://localhost:8080/"
        }
      },
      "source": [
        "a = 5\n",
        "b = 6\n",
        "\n",
        "print(a>b and a==a)\n",
        "print(a<b or b==a)"
      ],
      "execution_count": 12,
      "outputs": [
        {
          "output_type": "stream",
          "name": "stdout",
          "text": [
            "False\n",
            "True\n"
          ]
        }
      ]
    },
    {
      "cell_type": "markdown",
      "metadata": {
        "id": "uTFOAPMBBACJ"
      },
      "source": [
        "Identify Operator"
      ]
    },
    {
      "cell_type": "code",
      "metadata": {
        "id": "imTH8RfrBDLQ",
        "outputId": "a207da98-8022-4fd9-9bb2-8f8e8a9b4d11",
        "colab": {
          "base_uri": "https://localhost:8080/"
        }
      },
      "source": [
        "print(a is b)\n",
        "print(a is not b)"
      ],
      "execution_count": 13,
      "outputs": [
        {
          "output_type": "stream",
          "name": "stdout",
          "text": [
            "False\n",
            "True\n"
          ]
        }
      ]
    }
  ]
}