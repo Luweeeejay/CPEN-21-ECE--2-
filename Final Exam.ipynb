{
  "cells": [
    {
      "cell_type": "markdown",
      "metadata": {
        "id": "view-in-github",
        "colab_type": "text"
      },
      "source": [
        "<a href=\"https://colab.research.google.com/github/Luweeeejay/CPEN-21-ECE--2-/blob/main/Final%20Exam.ipynb\" target=\"_parent\"><img src=\"https://colab.research.google.com/assets/colab-badge.svg\" alt=\"Open In Colab\"/></a>"
      ]
    },
    {
      "cell_type": "markdown",
      "source": [
        "##FINALS\n"
      ],
      "metadata": {
        "id": "wi1cim7aWSsC"
      }
    },
    {
      "cell_type": "markdown",
      "source": [
        "Problem Statement 1"
      ],
      "metadata": {
        "id": "CJvSu8ThWVVP"
      }
    },
    {
      "cell_type": "code",
      "source": [
        "\n",
        "n = (1,2,3,4,4,3,2,1,1,2)\n",
        "total = 0\n",
        "for x in n:\n",
        "  total = total + x\n",
        "print(total)"
      ],
      "metadata": {
        "id": "mfgGjLVQY3GI",
        "outputId": "5359a804-127f-4314-9608-5834c190bf09",
        "colab": {
          "base_uri": "https://localhost:8080/"
        }
      },
      "execution_count": 6,
      "outputs": [
        {
          "output_type": "stream",
          "name": "stdout",
          "text": [
            "23\n"
          ]
        }
      ]
    },
    {
      "cell_type": "markdown",
      "source": [
        "Problem Statement 2"
      ],
      "metadata": {
        "id": "-2tkIjgCarg3"
      }
    },
    {
      "cell_type": "code",
      "source": [
        "numbers = []\n",
        "size = 5\n",
        "trace = 0\n",
        "n = 0\n",
        "\n",
        "for i in range(size):\n",
        "  numbers.append(int(input()))\n",
        "\n",
        "while trace <= (size - 1):\n",
        "  if trace == 0 or trace ==4:\n",
        "    n += numbers [trace]\n",
        "  \n",
        "  trace += 1\n",
        "\n",
        "print(n)"
      ],
      "metadata": {
        "id": "O4_Iqhioaude",
        "outputId": "92d34cfd-4a0f-4e69-eef3-4c65505805f0",
        "colab": {
          "base_uri": "https://localhost:8080/"
        }
      },
      "execution_count": 7,
      "outputs": [
        {
          "output_type": "stream",
          "name": "stdout",
          "text": [
            "5\n",
            "24\n",
            "33\n",
            "8\n",
            "10\n",
            "15\n"
          ]
        }
      ]
    },
    {
      "cell_type": "markdown",
      "source": [
        "Problem Statement 3"
      ],
      "metadata": {
        "id": "f14AKV_gcHE_"
      }
    },
    {
      "cell_type": "code",
      "source": [
        "sum = 0\n",
        "average = 0\n",
        "print(\"Enter grades aquired in 5 subjects\")\n",
        "grade1 = int(input(\"Science and Technology\"))\n",
        "grade2 = int(input(\"English\"))\n",
        "grade3 = int(input(\"Mathematics\"))\n",
        "grade4 = int(input(\"History\"))\n",
        "grade5 = int(input(\"Filipino\"))\n",
        "sum = grade1+grade2+grade3+grade4+grade5\n",
        "average = sum/5\n",
        "if average >= 90:\n",
        "  print(\"Your grade is A\")\n",
        "else:\n",
        "  if average >= 80 and average < 90:\n",
        "    print(\"Your grade is B\")\n",
        "  else:\n",
        "    if average >= 70 and average < 79:\n",
        "      print(\"Your grade is C\")\n",
        "    else:\n",
        "      if average >= 60 and average < 69:\n",
        "        print(\"Your grade is D\")\n",
        "      else:\n",
        "        print(\"Your grade is F\")\n",
        "        \n",
        "    "
      ],
      "metadata": {
        "id": "7AlU4ObzcMF3",
        "outputId": "28179ca0-4a89-4935-a88c-369f39bf4826",
        "colab": {
          "base_uri": "https://localhost:8080/"
        }
      },
      "execution_count": 9,
      "outputs": [
        {
          "output_type": "stream",
          "name": "stdout",
          "text": [
            "Enter grades aquired in 5 subjects\n",
            "Science and Technology 88\n",
            "English 90\n",
            "Mathematics 89\n",
            "History 92\n",
            "Filipino 93\n",
            "Your grade is A\n"
          ]
        }
      ]
    }
  ],
  "metadata": {
    "colab": {
      "collapsed_sections": [],
      "name": "Welcome To Colaboratory",
      "toc_visible": true,
      "provenance": [],
      "include_colab_link": true
    },
    "kernelspec": {
      "display_name": "Python 3",
      "name": "python3"
    }
  },
  "nbformat": 4,
  "nbformat_minor": 0
}