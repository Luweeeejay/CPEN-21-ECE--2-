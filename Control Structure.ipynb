{
  "nbformat": 4,
  "nbformat_minor": 0,
  "metadata": {
    "colab": {
      "name": "Welcome To Colaboratory",
      "provenance": [],
      "collapsed_sections": [],
      "toc_visible": true,
      "include_colab_link": true
    },
    "kernelspec": {
      "display_name": "Python 3",
      "name": "python3"
    }
  },
  "cells": [
    {
      "cell_type": "markdown",
      "metadata": {
        "id": "view-in-github",
        "colab_type": "text"
      },
      "source": [
        "<a href=\"https://colab.research.google.com/github/Luweeeejay/CPEN-21-ECE--2-/blob/main/Control%20Structure.ipynb\" target=\"_parent\"><img src=\"https://colab.research.google.com/assets/colab-badge.svg\" alt=\"Open In Colab\"/></a>"
      ]
    },
    {
      "cell_type": "markdown",
      "metadata": {
        "id": "_cT5t7iY1Bsv"
      },
      "source": [
        "##If Statement"
      ]
    },
    {
      "cell_type": "code",
      "metadata": {
        "id": "3pwSY4Ch1GMI",
        "outputId": "df9eb4f7-a160-4cde-ac25-1c978aa7ccb7",
        "colab": {
          "base_uri": "https://localhost:8080/"
        }
      },
      "source": [
        "a = 12\n",
        "b = 100\n",
        "if b>a:\n",
        "  print(\"b is greater than a\")"
      ],
      "execution_count": 1,
      "outputs": [
        {
          "output_type": "stream",
          "name": "stdout",
          "text": [
            "b is greater than a\n"
          ]
        }
      ]
    },
    {
      "cell_type": "markdown",
      "metadata": {
        "id": "T7d3rM6d1T3A"
      },
      "source": [
        "##Elif Statement"
      ]
    },
    {
      "cell_type": "code",
      "metadata": {
        "id": "J1tMcqA61XYv",
        "outputId": "88ea6bd5-1fda-4042-ede0-d48ff41b4a28",
        "colab": {
          "base_uri": "https://localhost:8080/"
        }
      },
      "source": [
        "a = 12\n",
        "b = 100\n",
        "if b>a:\n",
        "  print(\"b is less than a\")\n",
        "elif b>a:\n",
        "  print(\"b is greater than a\")"
      ],
      "execution_count": 2,
      "outputs": [
        {
          "output_type": "stream",
          "name": "stdout",
          "text": [
            "b is less than a\n"
          ]
        }
      ]
    },
    {
      "cell_type": "markdown",
      "metadata": {
        "id": "WY1BzoEa1sRe"
      },
      "source": [
        "##Else Statement"
      ]
    },
    {
      "cell_type": "code",
      "metadata": {
        "id": "I_Mm2KRh1wq_",
        "outputId": "1df50bc1-6e0b-4023-8957-5fb796444880",
        "colab": {
          "base_uri": "https://localhost:8080/"
        }
      },
      "source": [
        "a = 12\n",
        "b = 12\n",
        "if b>a:\n",
        "  print(\"b is less than a\")\n",
        "elif b>a:\n",
        "  print(\"b is greater than a\")\n",
        "else:\n",
        "  print(\"a is equal to b\")"
      ],
      "execution_count": 3,
      "outputs": [
        {
          "output_type": "stream",
          "name": "stdout",
          "text": [
            "a is equal to b\n"
          ]
        }
      ]
    },
    {
      "cell_type": "markdown",
      "metadata": {
        "id": "ZMigby092Ibn"
      },
      "source": [
        "##Short Hand If...Else"
      ]
    },
    {
      "cell_type": "code",
      "metadata": {
        "id": "lfttjRYj2Mu-",
        "outputId": "3c9c988c-da63-4b6d-c787-201bc124077d",
        "colab": {
          "base_uri": "https://localhost:8080/"
        }
      },
      "source": [
        "a = 420\n",
        "b = 330\n",
        "print(\"A\")if a > b else print(\"B\")"
      ],
      "execution_count": 4,
      "outputs": [
        {
          "output_type": "stream",
          "name": "stdout",
          "text": [
            "A\n"
          ]
        }
      ]
    },
    {
      "cell_type": "markdown",
      "metadata": {
        "id": "9c6B8v9p27qp"
      },
      "source": [
        "##And Condition"
      ]
    },
    {
      "cell_type": "code",
      "metadata": {
        "colab": {
          "base_uri": "https://localhost:8080/"
        },
        "id": "AKYpwCDA2-p-",
        "outputId": "17b30291-63de-456e-b7c9-f5970c51c62c"
      },
      "source": [
        "a = 200\n",
        "b = 33\n",
        "c = 500\n",
        "if a > b and a < c:\n",
        "  print(\"The conditions need to be True\")"
      ],
      "execution_count": 8,
      "outputs": [
        {
          "output_type": "stream",
          "name": "stdout",
          "text": [
            "The conditions need to be True\n"
          ]
        }
      ]
    },
    {
      "cell_type": "markdown",
      "metadata": {
        "id": "DK5dtM9r3c4-"
      },
      "source": [
        "##Or Condition"
      ]
    },
    {
      "cell_type": "code",
      "metadata": {
        "colab": {
          "base_uri": "https://localhost:8080/"
        },
        "id": "7MBC_9-K3m7-",
        "outputId": "1b4fcb50-d7c4-4f4c-88a4-d98e2a979e3e"
      },
      "source": [
        "a = 200\n",
        "b = 33\n",
        "c = 500\n",
        "if a > b or a < b:\n",
        "  print(\"Atleast one of the conditions need is True\")"
      ],
      "execution_count": 9,
      "outputs": [
        {
          "output_type": "stream",
          "name": "stdout",
          "text": [
            "Atleast one of the conditions need is True\n"
          ]
        }
      ]
    },
    {
      "cell_type": "markdown",
      "metadata": {
        "id": "odM6zhs739Oe"
      },
      "source": [
        "##Nested If"
      ]
    },
    {
      "cell_type": "code",
      "metadata": {
        "colab": {
          "base_uri": "https://localhost:8080/"
        },
        "id": "hJsp9HOm3_md",
        "outputId": "1a5dd9a5-73ec-48e6-b6a0-ccdbeda862ba"
      },
      "source": [
        "x = 41\n",
        "if x> 10:\n",
        "  print(\"Abone ten,\")\n",
        "if x > 20:\n",
        "  print(\"and also above 20!\")\n",
        "else:\n",
        "  print(\"but not abone 20\")"
      ],
      "execution_count": 10,
      "outputs": [
        {
          "output_type": "stream",
          "name": "stdout",
          "text": [
            "Abone ten,\n",
            "and also above 20!\n"
          ]
        }
      ]
    },
    {
      "cell_type": "markdown",
      "metadata": {
        "id": "6XaG84m375Os"
      },
      "source": [
        "##Nested If...Else"
      ]
    },
    {
      "cell_type": "code",
      "metadata": {
        "id": "FoZPTqov8Itr",
        "outputId": "0fcd80b3-187c-466c-ff5f-28afb0205b18",
        "colab": {
          "base_uri": "https://localhost:8080/"
        }
      },
      "source": [
        "a=4\n",
        "\n",
        "if a>10:\n",
        "  print(\"Above 10\")\n",
        "  if a>20:\n",
        "    print(\"Above 20\")\n",
        "  else:\n",
        "   print(\"not above 20\")\n",
        "else:\n",
        "   print(\"Below 10\")"
      ],
      "execution_count": 50,
      "outputs": [
        {
          "output_type": "stream",
          "name": "stdout",
          "text": [
            "Below 10\n"
          ]
        }
      ]
    },
    {
      "cell_type": "markdown",
      "metadata": {
        "id": "mQnMjy3T_lve"
      },
      "source": [
        "##Example 1"
      ]
    },
    {
      "cell_type": "code",
      "metadata": {
        "id": "ADB5VLT8AE8K",
        "outputId": "160701c0-1e98-4118-8f4c-5c0978e059fc",
        "colab": {
          "base_uri": "https://localhost:8080/"
        }
      },
      "source": [
        "# The qualifying age to vote\n",
        "age = 18\n",
        "if age>=18:\n",
        "  print(\"You are qualified to vote\")\n",
        "else:\n",
        "   print(\"You are not qualified\")"
      ],
      "execution_count": 56,
      "outputs": [
        {
          "output_type": "stream",
          "name": "stdout",
          "text": [
            "You are qualified to vote\n"
          ]
        }
      ]
    },
    {
      "cell_type": "markdown",
      "metadata": {
        "id": "fDK3Y40_BNFd"
      },
      "source": [
        "##Example 2"
      ]
    },
    {
      "cell_type": "code",
      "metadata": {
        "id": "yf0LM5lgBRFx",
        "outputId": "8abaea14-f252-4922-ad0e-d3a446e62c42",
        "colab": {
          "base_uri": "https://localhost:8080/"
        }
      },
      "source": [
        "number = int(input(\"Enter a number\"))\n",
        "if number > 0:\n",
        "  print(\"You entered a positive number\")\n",
        "elif number ==0:\n",
        "  print(\"You entered zero 0\")\n",
        "else: \n",
        "  print(\"You entered a negative number\")"
      ],
      "execution_count": 60,
      "outputs": [
        {
          "output_type": "stream",
          "name": "stdout",
          "text": [
            "Enter a number-5\n",
            "You entered a negative number\n"
          ]
        }
      ]
    },
    {
      "cell_type": "markdown",
      "metadata": {
        "id": "uu_49aS-B93j"
      },
      "source": [
        "##Example 3"
      ]
    },
    {
      "cell_type": "code",
      "metadata": {
        "id": "pVFNmczbCAaB",
        "outputId": "4aac14d3-51b1-4744-d27c-4c4e50b17596",
        "colab": {
          "base_uri": "https://localhost:8080/"
        }
      },
      "source": [
        "number = int(input(\"Enter a number\"))\n",
        "if number >= 75:\n",
        "  print(\"Passed\")\n",
        "if number ==74:\n",
        "  print(\"Remedial\")\n",
        "if number <74:\n",
        "  print(\"Failed\")"
      ],
      "execution_count": 64,
      "outputs": [
        {
          "output_type": "stream",
          "name": "stdout",
          "text": [
            "Enter a number80\n",
            "Passed\n"
          ]
        }
      ]
    }
  ]
}