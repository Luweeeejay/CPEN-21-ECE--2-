{
  "nbformat": 4,
  "nbformat_minor": 0,
  "metadata": {
    "colab": {
      "name": "Welcome To Colaboratory",
      "provenance": [],
      "collapsed_sections": [],
      "toc_visible": true,
      "include_colab_link": true
    },
    "kernelspec": {
      "display_name": "Python 3",
      "name": "python3"
    }
  },
  "cells": [
    {
      "cell_type": "markdown",
      "metadata": {
        "id": "view-in-github",
        "colab_type": "text"
      },
      "source": [
        "<a href=\"https://colab.research.google.com/github/Luweeeejay/CPEN-21-ECE--2-/blob/main/Midterm%20Exam.ipynb\" target=\"_parent\"><img src=\"https://colab.research.google.com/assets/colab-badge.svg\" alt=\"Open In Colab\"/></a>"
      ]
    },
    {
      "cell_type": "markdown",
      "metadata": {
        "id": "fKbVF2iX0PDF"
      },
      "source": [
        "##Midterm Exam"
      ]
    },
    {
      "cell_type": "markdown",
      "metadata": {
        "id": "Wo5OLZboy9ZM"
      },
      "source": [
        "PROBLEM STATEMENT 1"
      ]
    },
    {
      "cell_type": "code",
      "metadata": {
        "id": "_IxLZE2szASv",
        "outputId": "a907314c-6e0e-475b-e5a4-d1b03c111cb8",
        "colab": {
          "base_uri": "https://localhost:8080/"
        }
      },
      "source": [
        "name = \"Louie Jay Z. Dela Torre\"\n",
        "sn = \"202013550\"\n",
        "age = \"19 years old\"\n",
        "birthday = \"December 29, 2001\"\n",
        "address = \"Barangay Inocencio, Trece Martires City, Cavite\"\n",
        "course = \"Bachelor of Science in Electronics and Communications Engineering\"\n",
        "lastsemGWA = \"1.77\"\n",
        "\n",
        "print(name)\n",
        "print(sn)\n",
        "print(age)\n",
        "print(birthday)\n",
        "print(address)\n",
        "print(course)\n",
        "print(lastsemGWA)"
      ],
      "execution_count": 21,
      "outputs": [
        {
          "output_type": "stream",
          "name": "stdout",
          "text": [
            "Louie Jay Z. Dela Torre\n",
            "202013550\n",
            "19 years old\n",
            "December 29, 2001\n",
            "Barangay Inocencio, Trece Martires City, Cavite\n",
            "Bachelor of Science in Electronics and Communications Engineering\n",
            "1.77\n"
          ]
        }
      ]
    },
    {
      "cell_type": "markdown",
      "metadata": {
        "id": "VQYuRXRe0Aln"
      },
      "source": [
        "PROBLEM STATEMENT 2"
      ]
    },
    {
      "cell_type": "code",
      "metadata": {
        "id": "RylJknnl13JX",
        "outputId": "f59e7ec4-3de1-42c8-c0fe-7e835d1721d8",
        "colab": {
          "base_uri": "https://localhost:8080/"
        }
      },
      "source": [
        "n=4\n",
        "answ=\"Y\"\n",
        "print(2<n and n<6)\n",
        "print(2<n or n==6)\n",
        "print(not 2<n or n==6)\n",
        "print(not n<6)\n",
        "print(answ==\"Y\" or answ==\"y\")\n",
        "print(not answ==\"y\")\n",
        "print((2<n and n==5+1) or answ==\"No\")\n",
        "print((n==2 and n==7) or answ==\"Y\")\n",
        "print(n==2 and (n==7 or answ==\"Y\"))"
      ],
      "execution_count": 23,
      "outputs": [
        {
          "output_type": "stream",
          "name": "stdout",
          "text": [
            "True\n",
            "True\n",
            "False\n",
            "False\n",
            "True\n",
            "True\n",
            "False\n",
            "True\n",
            "False\n"
          ]
        }
      ]
    },
    {
      "cell_type": "markdown",
      "metadata": {
        "id": "xfPZPWz20Yq7"
      },
      "source": [
        "PROBLEM STATEMENT 3"
      ]
    },
    {
      "cell_type": "code",
      "metadata": {
        "id": "3j1UYc5s0b0t",
        "outputId": "9bedf4ca-d425-48a5-e617-3f53d345e0a1",
        "colab": {
          "base_uri": "https://localhost:8080/"
        }
      },
      "source": [
        "x=2\n",
        "y=3\n",
        "w=7\n",
        "z=10\n",
        "\n",
        "print(x/y)\n",
        "print(w/y/x)\n",
        "print(z/y%x)\n",
        "print(x%-y*w)\n",
        "print(x%y)\n",
        "print(z%w-y/x*5+5)\n",
        "print(9-x%(2+y))\n",
        "print(z//w)\n",
        "print((2+y)**2)\n",
        "print(w/y*2)"
      ],
      "execution_count": 22,
      "outputs": [
        {
          "output_type": "stream",
          "name": "stdout",
          "text": [
            "0.6666666666666666\n",
            "1.1666666666666667\n",
            "1.3333333333333335\n",
            "-7\n",
            "2\n",
            "0.5\n",
            "7\n",
            "1\n",
            "25\n",
            "4.666666666666667\n"
          ]
        }
      ]
    }
  ]
}