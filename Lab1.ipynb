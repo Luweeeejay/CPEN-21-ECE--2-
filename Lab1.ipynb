{
  "nbformat": 4,
  "nbformat_minor": 0,
  "metadata": {
    "colab": {
      "name": "Welcome To Colaboratory",
      "provenance": [],
      "collapsed_sections": [],
      "toc_visible": true,
      "include_colab_link": true
    },
    "kernelspec": {
      "display_name": "Python 3",
      "name": "python3"
    }
  },
  "cells": [
    {
      "cell_type": "markdown",
      "metadata": {
        "id": "view-in-github",
        "colab_type": "text"
      },
      "source": [
        "<a href=\"https://colab.research.google.com/github/Luweeeejay/CPEN-21-ECE--2-/blob/main/Lab1.ipynb\" target=\"_parent\"><img src=\"https://colab.research.google.com/assets/colab-badge.svg\" alt=\"Open In Colab\"/></a>"
      ]
    },
    {
      "cell_type": "code",
      "metadata": {
        "id": "_qnSiHoH-2t8",
        "outputId": "96e4dd9f-9128-4f58-9111-cd924fbf64c2",
        "colab": {
          "base_uri": "https://localhost:8080/"
        }
      },
      "source": [
        "print(\"Laboratory 1\")"
      ],
      "execution_count": 28,
      "outputs": [
        {
          "output_type": "stream",
          "name": "stdout",
          "text": [
            "Laboratory 1\n"
          ]
        }
      ]
    },
    {
      "cell_type": "code",
      "metadata": {
        "id": "1C2aVNiF_D2C",
        "outputId": "f66a0e62-88cb-4b65-c9d9-848f8708e977",
        "colab": {
          "base_uri": "https://localhost:8080/"
        }
      },
      "source": [
        "print(\"Welcome To Python Programming.\")"
      ],
      "execution_count": 3,
      "outputs": [
        {
          "output_type": "stream",
          "name": "stdout",
          "text": [
            "Welcome To Python Programming.\n"
          ]
        }
      ]
    },
    {
      "cell_type": "code",
      "metadata": {
        "id": "jQAb_1SzlMOh",
        "outputId": "319f5dbc-c137-4a8a-bad7-7b0965c83dad",
        "colab": {
          "base_uri": "https://localhost:8080/"
        }
      },
      "source": [
        "name = \"Louie Jay Z. Dela Torre\"\n",
        "age = 19\n",
        "address = \"Brgy. Inocencio Trece Martires City, Cavite\"\n",
        "print(\"Hi,\" , \"My name is\" , name , \",\" , age , \"years old\" , \"and I live in\" , address)\n"
      ],
      "execution_count": 32,
      "outputs": [
        {
          "output_type": "stream",
          "name": "stdout",
          "text": [
            "Hi, My name is Louie Jay Z. Dela Torre , 19 years old and I live in Brgy. Inocencio Trece Martires City, Cavite\n"
          ]
        }
      ]
    }
  ]
}